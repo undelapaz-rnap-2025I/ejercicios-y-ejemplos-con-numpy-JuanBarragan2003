{
 "cells": [
  {
   "cell_type": "markdown",
   "id": "accfa79b",
   "metadata": {},
   "source": [
    "## Ejercicios y Ejemplos en Python con NumPy"
   ]
  },
  {
   "cell_type": "markdown",
   "id": "f19664e9",
   "metadata": {},
   "source": [
    "Este cuaderno tiene como objetivo principal explorar y poner en práctica conceptos fundamentales de programación en Python utilizando la biblioteca NumPy, entre otras herramientas. A lo largo del cuaderno interactivo se presentarán ejemplos, ejercicios y visualizaciones que permiten reforzar la comprensión de temas clave como la indexación de arreglos, operaciones matemáticas, entre otras herramientas de programacion bascias en python.  "
   ]
  },
  {
   "cell_type": "markdown",
   "id": "dbcd37e6",
   "metadata": {},
   "source": [
    "## 1 Examples: NumPy"
   ]
  },
  {
   "cell_type": "markdown",
   "id": "8205981e",
   "metadata": {},
   "source": [
    "1. Basic Indexing: Explica cómo acceder a elementos individuales de un arreglo unidimensional utilizando índices."
   ]
  },
  {
   "cell_type": "code",
   "execution_count": 2,
   "id": "73e2b5d7",
   "metadata": {},
   "outputs": [],
   "source": [
    "import numpy as np"
   ]
  },
  {
   "cell_type": "code",
   "execution_count": 3,
   "id": "d1e5c035",
   "metadata": {},
   "outputs": [
    {
     "name": "stdout",
     "output_type": "stream",
     "text": [
      "30\n"
     ]
    }
   ],
   "source": [
    "arr = np.array([10, 20, 30, 40, 50])\n",
    "print(arr[2]) "
   ]
  },
  {
   "cell_type": "markdown",
   "id": "190e35cb",
   "metadata": {},
   "source": [
    "2. Slicing: Muestra cómo extraer subconjuntos de un arreglo utilizando rangos de índices."
   ]
  },
  {
   "cell_type": "code",
   "execution_count": 4,
   "id": "66986ef5",
   "metadata": {},
   "outputs": [
    {
     "name": "stdout",
     "output_type": "stream",
     "text": [
      "[20 30 40]\n"
     ]
    }
   ],
   "source": [
    "arr = np.array([10, 20, 30, 40, 50])\n",
    "print(arr[1:4])"
   ]
  },
  {
   "cell_type": "markdown",
   "id": "b77dc21e",
   "metadata": {},
   "source": [
    "3. Indexing 2D Arrays: Enseña cómo acceder a elementos específicos en arreglos bidimensionales (matrices)."
   ]
  },
  {
   "cell_type": "code",
   "execution_count": 5,
   "id": "e7aa7e76",
   "metadata": {},
   "outputs": [
    {
     "name": "stdout",
     "output_type": "stream",
     "text": [
      "6\n"
     ]
    }
   ],
   "source": [
    "arr = np.array([[1, 2, 3], [4, 5, 6], [7, 8, 9]])\n",
    "print(arr[1, 2]) "
   ]
  },
  {
   "cell_type": "markdown",
   "id": "955d3aa7",
   "metadata": {},
   "source": [
    "4. Slicing 2D Arrays: Extraer submatrices de un arreglo bidimensional utilizando rangos de índices."
   ]
  },
  {
   "cell_type": "code",
   "execution_count": 6,
   "id": "17424aa3",
   "metadata": {},
   "outputs": [
    {
     "name": "stdout",
     "output_type": "stream",
     "text": [
      "[[2 3]\n",
      " [5 6]]\n"
     ]
    }
   ],
   "source": [
    "arr = np.array([[1, 2, 3], [4, 5, 6], [7, 8, 9]])\n",
    "print(arr[:2, 1:])"
   ]
  },
  {
   "cell_type": "markdown",
   "id": "a1376e19",
   "metadata": {},
   "source": [
    "5. 3D Tensor Indexing: Acceder a elementos específicos y submatrices en tensores tridimensionales"
   ]
  },
  {
   "cell_type": "code",
   "execution_count": 7,
   "id": "ac482484",
   "metadata": {},
   "outputs": [
    {
     "name": "stdout",
     "output_type": "stream",
     "text": [
      "9\n",
      "[[ 7  8  9]\n",
      " [10 11 12]]\n"
     ]
    }
   ],
   "source": [
    "tensor = np.array([[[1, 2, 3], [4, 5, 6]],\n",
    "[[7, 8, 9], [10, 11, 12]],\n",
    "[[13, 14, 15], [16, 17, 18]]])\n",
    "\n",
    "\n",
    " # Access specific elements\n",
    "print(tensor[1, 0, 2])   # Output: 9\n",
    "\n",
    " # Access an entire \"slice\" (2D submatrix)\n",
    "print(tensor[1]) # Output: [[ 7 8 9] [10 11 12]]"
   ]
  },
  {
   "cell_type": "markdown",
   "id": "ed0925f6",
   "metadata": {},
   "source": [
    "6. Slicing a 3D Tensor: Extraer subtensores de un tensor tridimensional utilizando rangos de índices."
   ]
  },
  {
   "cell_type": "code",
   "execution_count": 8,
   "id": "324d1fb5",
   "metadata": {},
   "outputs": [
    {
     "name": "stdout",
     "output_type": "stream",
     "text": [
      "[[ 9 10 11]\n",
      " [12 13 14]\n",
      " [15 16 17]]\n",
      "[[ 3  4  5]\n",
      " [12 13 14]\n",
      " [21 22 23]]\n",
      "[[ 2  5  8]\n",
      " [11 14 17]\n",
      " [20 23 26]]\n"
     ]
    }
   ],
   "source": [
    "tensor = np.arange(27).reshape(3, 3, 3)\n",
    " # Slice along the first dimension\n",
    "print(tensor[1]) # Output: 3x3 submatrix\n",
    " # Slice along the second dimension\n",
    "print(tensor[:, 1, :]) # Output: 3x3 submatrix\n",
    " # Slice along the third dimension\n",
    "print(tensor[:, :, 2]) # Output: 3x3 submatrix"
   ]
  },
  {
   "cell_type": "markdown",
   "id": "e4f7748c",
   "metadata": {},
   "source": [
    "7. 4D Tensor Indexing: Trabajar con tensores de cuatro dimensiones, accediendo a elementos y bloques específicos."
   ]
  },
  {
   "cell_type": "code",
   "execution_count": 9,
   "id": "f125e986",
   "metadata": {},
   "outputs": [
    {
     "name": "stdout",
     "output_type": "stream",
     "text": [
      "43\n",
      "[[40 41 42 43]\n",
      " [44 45 46 47]]\n"
     ]
    }
   ],
   "source": [
    "tensor = np.arange(48).reshape(2, 3, 2, 4)\n",
    " # Access specific elements\n",
    "print(tensor[1, 2, 0, 3]) # Output: 47\n",
    " # Access a whole \"block\" (3D sub-tensor)\n",
    "print(tensor[1, 2]) # Output: 2x4x3 sub-tensor"
   ]
  },
  {
   "cell_type": "markdown",
   "id": "4d19a359",
   "metadata": {},
   "source": [
    "8. Slicing a 4D Tensor: Extraer subtensores de un tensor de cuatro dimensiones."
   ]
  },
  {
   "cell_type": "code",
   "execution_count": 10,
   "id": "2b7716d1",
   "metadata": {},
   "outputs": [
    {
     "name": "stdout",
     "output_type": "stream",
     "text": [
      "[[[24 25 26 27]\n",
      "  [28 29 30 31]]\n",
      "\n",
      " [[32 33 34 35]\n",
      "  [36 37 38 39]]\n",
      "\n",
      " [[40 41 42 43]\n",
      "  [44 45 46 47]]]\n",
      "[[[16 17 18 19]\n",
      "  [20 21 22 23]]\n",
      "\n",
      " [[40 41 42 43]\n",
      "  [44 45 46 47]]]\n",
      "[[[ 0  1  2  3]\n",
      "  [ 8  9 10 11]\n",
      "  [16 17 18 19]]\n",
      "\n",
      " [[24 25 26 27]\n",
      "  [32 33 34 35]\n",
      "  [40 41 42 43]]]\n"
     ]
    }
   ],
   "source": [
    "tensor = np.arange(48).reshape(2, 3, 2, 4)\n",
    " # Slice along the first dimension\n",
    " \n",
    "print(tensor[1]) # Output: 3x2x4 sub-tensor\n",
    " # Slice along the second dimension\n",
    "print(tensor[:, 2, :, :]) # Output: 2x2x4 sub-tensor\n",
    " # Slice along the third dimension\n",
    "print(tensor[:, :, 0, :]) # Output: 2x3x4 sub-tensor"
   ]
  },
  {
   "cell_type": "markdown",
   "id": "aabc7295",
   "metadata": {},
   "source": [
    "9. Matrix Addition: Suma de matrices utilizando NumPy "
   ]
  },
  {
   "cell_type": "code",
   "execution_count": 11,
   "id": "9a8c3a82",
   "metadata": {},
   "outputs": [
    {
     "name": "stdout",
     "output_type": "stream",
     "text": [
      "[[ 6  8]\n",
      " [10 12]]\n"
     ]
    }
   ],
   "source": [
    "A = np.array([[1, 2], [3, 4]])\n",
    "B = np.array([[5, 6], [7, 8]])\n",
    "result = A + B\n",
    "print(result)\n",
    "\n"
   ]
  },
  {
   "cell_type": "markdown",
   "id": "71483c8d",
   "metadata": {},
   "source": [
    "10. Matrix Multiplication:  Multiplicación de matrices con la función np.dot."
   ]
  },
  {
   "cell_type": "code",
   "execution_count": 12,
   "id": "668fd794",
   "metadata": {},
   "outputs": [
    {
     "name": "stdout",
     "output_type": "stream",
     "text": [
      "[[19 22]\n",
      " [43 50]]\n"
     ]
    }
   ],
   "source": [
    " A = np.array([[1, 2], [3, 4]])\n",
    " B = np.array([[5, 6], [7, 8]])\n",
    " result = np.dot(A, B)\n",
    " print(result)"
   ]
  },
  {
   "cell_type": "markdown",
   "id": "10039180",
   "metadata": {},
   "source": [
    " 11. Transpose of a Matrix:  Calcular la transpuesta de una matriz."
   ]
  },
  {
   "cell_type": "code",
   "execution_count": 13,
   "id": "e8a626ac",
   "metadata": {},
   "outputs": [
    {
     "name": "stdout",
     "output_type": "stream",
     "text": [
      "[[1 3]\n",
      " [2 4]]\n"
     ]
    }
   ],
   "source": [
    "A = np.array([[1, 2], [3, 4]])\n",
    "result = np.transpose(A)\n",
    "print(result)"
   ]
  },
  {
   "cell_type": "markdown",
   "id": "1dd49190",
   "metadata": {},
   "source": [
    "12. Matrix Determinant and Inverse: Calcular el determinante y la inversa de una matriz."
   ]
  },
  {
   "cell_type": "code",
   "execution_count": 14,
   "id": "24a80cb1",
   "metadata": {},
   "outputs": [
    {
     "name": "stdout",
     "output_type": "stream",
     "text": [
      "Determinant: -2.0000000000000004\n",
      "Inverse:\n",
      " [[-2.   1. ]\n",
      " [ 1.5 -0.5]]\n"
     ]
    }
   ],
   "source": [
    "A = np.array([[1, 2], [3, 4]])\n",
    "det = np.linalg.det(A)\n",
    "inverse = np.linalg.inv(A)\n",
    "print(\"Determinant:\", det)\n",
    "print(\"Inverse:\\n\", inverse)"
   ]
  },
  {
   "cell_type": "markdown",
   "id": "f72d4e5e",
   "metadata": {},
   "source": [
    " 13. Eigenvalues and Eigenvectors: Calcular los valores y vectores propios de una matriz."
   ]
  },
  {
   "cell_type": "code",
   "execution_count": 15,
   "id": "75d7a312",
   "metadata": {},
   "outputs": [
    {
     "name": "stdout",
     "output_type": "stream",
     "text": [
      "Eigenvalues: [2.00000002 1.99999998]\n",
      "Eigenvectors:\n",
      " [[-0.70710677 -0.70710679]\n",
      " [ 0.70710679  0.70710677]]\n"
     ]
    }
   ],
   "source": [
    "A = np.array([[1,-1], [1, 3]])\n",
    "eigenvalues, eigenvectors = np.linalg.eig(A)\n",
    "print(\"Eigenvalues:\", eigenvalues)\n",
    "print(\"Eigenvectors:\\n\", eigenvectors)"
   ]
  },
  {
   "cell_type": "markdown",
   "id": "abe5a569",
   "metadata": {},
   "source": [
    " 14. Solving Linear Equations: Resolver sistemas de ecuaciones lineales utilizando NumPy."
   ]
  },
  {
   "cell_type": "code",
   "execution_count": 16,
   "id": "a486c6f0",
   "metadata": {},
   "outputs": [
    {
     "name": "stdout",
     "output_type": "stream",
     "text": [
      "Solution: [1. 1.]\n"
     ]
    }
   ],
   "source": [
    "A=np.array([[2,1],[1,1]])\n",
    "b=np.array([3,2])\n",
    "solution=np.linalg.solve(A,b)\n",
    "print(\"Solution:\",solution)"
   ]
  },
  {
   "cell_type": "markdown",
   "id": "bf13d047",
   "metadata": {},
   "source": [
    "15.Gradient descent optimization: Given the dataset X and y Algoritmo de descenso de gradiente para optimización en problemas de regresión lineal."
   ]
  },
  {
   "cell_type": "code",
   "execution_count": 17,
   "id": "a575343f",
   "metadata": {},
   "outputs": [
    {
     "name": "stdout",
     "output_type": "stream",
     "text": [
      "Final theta: [[4.22215108]\n",
      " [2.96846751]]\n"
     ]
    }
   ],
   "source": [
    "# Generate some sample data\n",
    "np.random.seed(0)\n",
    "X = 2 * np.random.rand(100, 1)\n",
    "y = 4 + 3 * X + np.random.randn(100, 1)\n",
    "# Add bias term to X\n",
    "X_b = np.c_[np.ones((100, 1)), X]\n",
    "# Hyperparameters\n",
    "learning_rate = 0.1\n",
    "n_iterations = 1000\n",
    "# Initialize the parameters\n",
    "theta = np.random.randn(2, 1)\n",
    "# Gradient Descent\n",
    "for iteration in range(n_iterations):\n",
    "  gradients = 2 / 100 * X_b.T.dot(X_b.dot(theta)- y)\n",
    "  theta = theta- learning_rate * gradients\n",
    "print(\"Final theta:\", theta)"
   ]
  },
  {
   "cell_type": "markdown",
   "id": "af9996c8",
   "metadata": {},
   "source": [
    " ### 2 Examples: Python functions and classes "
   ]
  },
  {
   "cell_type": "markdown",
   "id": "313c7e55",
   "metadata": {},
   "source": [
    " 1. Simple Function: Definir y usar una función básica en Python."
   ]
  },
  {
   "cell_type": "code",
   "execution_count": 18,
   "id": "dbcbda81",
   "metadata": {},
   "outputs": [
    {
     "name": "stdout",
     "output_type": "stream",
     "text": [
      "Hello, Ana!\n"
     ]
    }
   ],
   "source": [
    "def greet(name):\n",
    " return \"Hello, \" + name + \"!\"\n",
    "print(greet(\"Ana\")) "
   ]
  },
  {
   "cell_type": "markdown",
   "id": "f42e4ea4",
   "metadata": {},
   "source": [
    " 2. Function with Parameters and Return: Cómo crear funciones con parámetros y valores de retorno."
   ]
  },
  {
   "cell_type": "code",
   "execution_count": 19,
   "id": "8b696e91",
   "metadata": {},
   "outputs": [
    {
     "name": "stdout",
     "output_type": "stream",
     "text": [
      "12\n"
     ]
    }
   ],
   "source": [
    "def add_numbers(a, b):\n",
    "  sum = a + b\n",
    "  return sum\n",
    "result = add_numbers(5, 7)\n",
    "print(result) "
   ]
  },
  {
   "cell_type": "markdown",
   "id": "022054e5",
   "metadata": {},
   "source": [
    "3. Function with Default Parameter: Enseña cómo definir parámetros predeterminados en funciones."
   ]
  },
  {
   "cell_type": "code",
   "execution_count": 20,
   "id": "19b31e1e",
   "metadata": {},
   "outputs": [
    {
     "name": "stdout",
     "output_type": "stream",
     "text": [
      "9\n",
      "8\n"
     ]
    }
   ],
   "source": [
    "def power(base, exponent=2):\n",
    " return base ** exponent\n",
    "print(power(3))\n",
    "print(power(2, 3))"
   ]
  },
  {
   "cell_type": "markdown",
   "id": "40e1ae4b",
   "metadata": {},
   "source": [
    " 4. Function with Multiple Returns: Muestra cómo devolver múltiples valores desde una función."
   ]
  },
  {
   "cell_type": "code",
   "execution_count": 21,
   "id": "a7f7bd69",
   "metadata": {},
   "outputs": [
    {
     "name": "stdout",
     "output_type": "stream",
     "text": [
      "2 9\n"
     ]
    }
   ],
   "source": [
    "def min_max(numbers):\n",
    "  return min(numbers), max(numbers)\n",
    "\n",
    "nums = [4, 9, 2, 7, 5]\n",
    "minimum, maximum = min_max(nums)\n",
    "print(minimum, maximum) "
   ]
  },
  {
   "cell_type": "markdown",
   "id": "46b12845",
   "metadata": {},
   "source": [
    " 5. Function with Docstring:\n",
    "  Documentar funciones utilizando cadenas de documentación (docstrings)."
   ]
  },
  {
   "cell_type": "code",
   "execution_count": 16,
   "id": "cd0637ab",
   "metadata": {},
   "outputs": [
    {
     "name": "stdout",
     "output_type": "stream",
     "text": [
      "El área del rectángulo con longitud 5 y ancho 3 es: 15\n"
     ]
    }
   ],
   "source": [
    "def area_of_rectangle(length, width):\n",
    " \"\"\"\n",
    " Calculates the area of a rectangle.\n",
    " Args:\n",
    " length (float): The length of the rectangle.\n",
    " width (float): The width of the rectangle.\n",
    " Returns:\n",
    " float: The area of the rectangle.\n",
    " \"\"\"\n",
    " return length * width\n",
    "# Ejemplo de uso\n",
    "length = 5\n",
    "width = 3\n",
    "area = area_of_rectangle(length, width)\n",
    "print(f\"El área del rectángulo con longitud {length} y ancho {width} es: {area}\")"
   ]
  },
  {
   "cell_type": "markdown",
   "id": "6723c506",
   "metadata": {},
   "source": [
    "6. Creating a Simple Class: Cómo definir una clase básica en Python."
   ]
  },
  {
   "cell_type": "code",
   "execution_count": 17,
   "id": "cc962d1a",
   "metadata": {},
   "outputs": [
    {
     "name": "stdout",
     "output_type": "stream",
     "text": [
      "Buddy is barking!\n"
     ]
    }
   ],
   "source": [
    "class Dog:\n",
    " def __init__(self, name, age):\n",
    "   self.name = name\n",
    "   self.age = age\n",
    " def bark(self):\n",
    "  print(f\"{self.name} is barking!\")\n",
    " # Create an instance of the Dog class\n",
    "dog1 = Dog(\"Buddy\", 3)\n",
    "dog1.bark() \n"
   ]
  },
  {
   "cell_type": "markdown",
   "id": "17a8893a",
   "metadata": {},
   "source": [
    "7. Adding Methods and Attributes.  Agregar métodos y atributos a una clase."
   ]
  },
  {
   "cell_type": "code",
   "execution_count": 24,
   "id": "94b310af",
   "metadata": {},
   "outputs": [
    {
     "name": "stdout",
     "output_type": "stream",
     "text": [
      "Alice’s average grade: 88.5\n"
     ]
    }
   ],
   "source": [
    "class Student:\n",
    " def __init__(self, name, age):\n",
    "    self.name = name\n",
    "    self.age = age\n",
    "    self.grades = []\n",
    " def add_grade(self, grade):\n",
    "    self.grades.append(grade)\n",
    " def get_average_grade(self):\n",
    "    return sum(self.grades) / len(self.grades)\n",
    " # Create a Student instance and add grades\n",
    "student1 = Student(\"Alice\", 18)\n",
    "student1.add_grade(85)\n",
    "student1.add_grade(92)\n",
    "average_grade = student1.get_average_grade()\n",
    "print(f\"{student1.name}’s average grade: {average_grade}\")"
   ]
  },
  {
   "cell_type": "markdown",
   "id": "4f1618a8",
   "metadata": {},
   "source": [
    " 8. Inheritance"
   ]
  },
  {
   "cell_type": "code",
   "execution_count": 25,
   "id": "74f8736a",
   "metadata": {},
   "outputs": [
    {
     "name": "stdout",
     "output_type": "stream",
     "text": [
      "Whiskers says Meow!\n",
      "Buddy says Woof!\n"
     ]
    }
   ],
   "source": [
    "class Animal:\n",
    "  def __init__(self, name):\n",
    "     \n",
    "     self.name = name\n",
    "\n",
    "  def speak(self):\n",
    "     pass # Placeholder for subclasses to override\n",
    "  \n",
    "class Cat(Animal):\n",
    "  \n",
    "  def speak(self):\n",
    "     print(f\"{self.name} says Meow!\")\n",
    "\n",
    "class Dog(Animal):\n",
    "  \n",
    "  def speak(self):\n",
    "     print(f\"{self.name} says Woof!\")\n",
    " # Create instances of Cat and Dog\n",
    "cat = Cat(\"Whiskers\")\n",
    "dog = Dog(\"Buddy\")\n",
    "cat.speak() # Output: Whiskers says Meow!\n",
    "dog.speak() # Output: Buddy says Woof!"
   ]
  },
  {
   "cell_type": "markdown",
   "id": "c9da39bb",
   "metadata": {},
   "source": [
    "## 3. Exercises\n",
    "\n",
    "### 3.1 Indexing Arrays in NumPy\n",
    "\n",
    "**1.** Given the NumPy array `arr = np.array([3, 7, 1, 9, 5])`, perform the following indexing operations:"
   ]
  },
  {
   "cell_type": "code",
   "execution_count": 26,
   "id": "5973acd7",
   "metadata": {},
   "outputs": [
    {
     "name": "stdout",
     "output_type": "stream",
     "text": [
      "9\n",
      "[7 1 9]\n",
      "[ 3  7  1 12  5]\n"
     ]
    }
   ],
   "source": [
    "import numpy  as np \n",
    "\n",
    "arr=np.array([3,7,1,9,5])\n",
    " # a) Retrieve the third element oft hearray.\n",
    "print(arr[3])\n",
    " # b) Slice the array to get elements from index 1 to index 3.\n",
    "print(arr[1:4])\n",
    " # c) Change the value of the fourth element to 12.\n",
    "arr[3]= 12\n",
    "print(arr)"
   ]
  },
  {
   "cell_type": "markdown",
   "id": "8c0c0124",
   "metadata": {},
   "source": [
    " **2.** Create a 2DNumPy array matrix with the following values:"
   ]
  },
  {
   "cell_type": "code",
   "execution_count": 27,
   "id": "cc6c179c",
   "metadata": {},
   "outputs": [
    {
     "name": "stdout",
     "output_type": "stream",
     "text": [
      "[[1 2 3]\n",
      " [4 5 6]\n",
      " [7 8 9]]\n",
      "6\n",
      "[[1 2 3]\n",
      " [4 5 6]]\n"
     ]
    }
   ],
   "source": [
    "M = ([1,2,3], \n",
    "     [4, 5, 6], \n",
    "     [7, 8, 9])\n",
    "print(np.array(M))\n",
    "\n",
    " # a)Retrieve the element in the second row and third column.\n",
    "M_elemento = np.array(M)\n",
    "elemento = M_elemento[1, 2]\n",
    "print(elemento)\n",
    "\n",
    " #  b) Slice the matrix to get the submatrix consisting of the first two rows and all columns.\n",
    "Sub_M1 = M_elemento [:2, :]\n",
    "print(Sub_M1)\n",
    "\n",
    " "
   ]
  },
  {
   "cell_type": "markdown",
   "id": "411a8f3c",
   "metadata": {},
   "source": [
    " ### 3.2 Indexing and Slicing Higher-Dimensional Tensors\n",
    "\n",
    " Consider the following 3D tensor representing a stack of matrices:"
   ]
  },
  {
   "cell_type": "code",
   "execution_count": 28,
   "id": "9cde6b3a",
   "metadata": {},
   "outputs": [
    {
     "name": "stdout",
     "output_type": "stream",
     "text": [
      "15\n",
      "[[13 14 15 16]\n",
      " [17 18 19 20]\n",
      " [21 22 23 24]]\n",
      "[[21 22 23 24]\n",
      " [33 34 35 36]]\n",
      "32\n",
      "[[13 14 15 16]\n",
      " [25 26 27 28]]\n"
     ]
    }
   ],
   "source": [
    "tensor = np.array([\n",
    "    [\n",
    "        [1, 2, 3, 4],\n",
    "        [5, 6, 7, 8],\n",
    "        [9, 10, 11, 12]\n",
    "    ],\n",
    "    [\n",
    "        [13, 14, 15, 16],\n",
    "        [17, 18, 19, 20],\n",
    "        [21, 22, 23, 24]\n",
    "    ],\n",
    "    [ \n",
    "        [25, 26, 27, 28],\n",
    "        [29, 30, 31, 32],\n",
    "        [33, 34, 35, 36]\n",
    "    ]\n",
    "])\n",
    "\n",
    " #  1.Retrieve the element at the position (1,0,2) with in the tensor.\n",
    "T_elemento = tensor[1, 0, 2]\n",
    "print(T_elemento)\n",
    " # 2.  Slice the tensor to obtain the 3×4 sub-tensor that corresponds to the second “matrix” (slice) a long the first dimension\n",
    "slice2 = tensor[1, :, :]\n",
    "print(slice2)\n",
    "\n",
    " # 3. Slice the tensor to obtain the 2×4 sub-tensor that corresponds to the last row of the last two “matrices.”\n",
    "slice3 = tensor[1:, 2, :]\n",
    "print(slice3)\n",
    "\n",
    " # 4. Retrieve the element at the position (2, 1, 3) within the tensor.\n",
    "element4 = tensor[2, 1, 3]\n",
    "print(element4)  # Output: 32\n",
    "\n",
    " # 5. Slice the tensor to obtain the 2×4 sub-tensor that corresponds to the first row of the last two “matrices.”\n",
    "\n",
    "slice5 = tensor[1:, 0, :]\n",
    "print(slice5)\n",
    "\n",
    " "
   ]
  },
  {
   "cell_type": "markdown",
   "id": "a10eef51",
   "metadata": {},
   "source": [
    "### 3.3 Defining Functions in Python"
   ]
  },
  {
   "cell_type": "markdown",
   "id": "f5521937",
   "metadata": {},
   "source": [
    "1. Write a Python function calculate average that takes a list of numbers as input and returns the average of those numbers."
   ]
  },
  {
   "cell_type": "code",
   "execution_count": 29,
   "id": "e5821021",
   "metadata": {},
   "outputs": [
    {
     "name": "stdout",
     "output_type": "stream",
     "text": [
      "Average: 43.666666666666664\n"
     ]
    }
   ],
   "source": [
    "def calculate_average(numbers):\n",
    "    \"\"\"\n",
    "    Calculate the average of a list of numbers.\n",
    "    \n",
    "    Args:\n",
    "    numbers (list): A list of numerical values.\n",
    "    \n",
    "    Returns:\n",
    "    float: The average of the numbers in the list.\n",
    "    \"\"\"\n",
    "    if not numbers:\n",
    "        return 0  # Return 0 if the list is empty to avoid division by zero\n",
    "    return sum(numbers) / len(numbers)\n",
    "\n",
    "# Example usage:\n",
    "nums = [10, 20, 30, 40, 50, 112, 78, 40, 13]\n",
    "average = calculate_average(nums)\n",
    "print(\"Average:\", average)"
   ]
  },
  {
   "cell_type": "markdown",
   "id": "9da8a543",
   "metadata": {},
   "source": [
    " 2. Define a function find\n",
    " power that calculates the result of a number raised\n",
    " to a given exponent. The function should have two parameters: base (the\n",
    " base number) and exponent (default value should be 2)."
   ]
  },
  {
   "cell_type": "code",
   "execution_count": 30,
   "id": "d8c52d18",
   "metadata": {},
   "outputs": [
    {
     "name": "stdout",
     "output_type": "stream",
     "text": [
      "resultado = 9\n"
     ]
    }
   ],
   "source": [
    "def find_power(base, exponent=2):\n",
    "    \"\"\"\n",
    "    Calculate the result of a number raised to a given exponent.\n",
    "\n",
    "    Args:\n",
    "    base (float): The base number.\n",
    "    exponent (int, optional): The exponent to raise the base to. Default is 2.\n",
    "\n",
    "    Returns:\n",
    "    float: The result of base raised to the power of exponent.\n",
    "    \"\"\"\n",
    "    return base ** exponent\n",
    "result = find_power(3)\n",
    "print(\"resultado =\", result)  # Output: 9\n"
   ]
  },
  {
   "cell_type": "markdown",
   "id": "16c282b6",
   "metadata": {},
   "source": [
    "### 3.4 Implementing Gradient Descent Optimization"
   ]
  },
  {
   "cell_type": "markdown",
   "id": "56dfa22c",
   "metadata": {},
   "source": [
    " 1. Consider the linear regression problem where you have the following data\n",
    " points:  X =[1,2,3,4,5]\n",
    " y =[3,6,8,11,13]\""
   ]
  },
  {
   "cell_type": "code",
   "execution_count": 9,
   "id": "6845887c",
   "metadata": {},
   "outputs": [
    {
     "name": "stdout",
     "output_type": "stream",
     "text": [
      "x = [[1]\n",
      " [2]\n",
      " [3]\n",
      " [4]\n",
      " [5]]\n",
      "y = [[ 3]\n",
      " [ 6]\n",
      " [ 8]\n",
      " [11]\n",
      " [13]]\n"
     ]
    },
    {
     "data": {
      "text/plain": [
       "<matplotlib.collections.PathCollection at 0x207d5515e80>"
      ]
     },
     "execution_count": 9,
     "metadata": {},
     "output_type": "execute_result"
    },
    {
     "data": {
      "image/png": "[encoded data removed]",
      "text/plain": [
       "<Figure size 640x480 with 1 Axes>"
      ]
     },
     "metadata": {},
     "output_type": "display_data"
    }
   ],
   "source": [
    "import numpy as np\n",
    "import matplotlib.pyplot as plt\n",
    "\n",
    "# Datos escritos como vectores\n",
    "X = np.array([1, 2, 3, 4, 5]).reshape(-1, 1)  # (5,1)\n",
    "y = np.array([3, 6, 8, 11, 13]).reshape(-1, 1)  # (5,1)\n",
    "\n",
    "print(\"x =\", X)\n",
    "print (\"y =\",y)  \n",
    "\n",
    "plt.scatter(X, y)"
   ]
  },
  {
   "cell_type": "code",
   "execution_count": 14,
   "id": "c6922d59",
   "metadata": {},
   "outputs": [
    {
     "name": "stdout",
     "output_type": "stream",
     "text": [
      "X_b = [[1. 1.]\n",
      " [1. 2.]\n",
      " [1. 3.]\n",
      " [1. 4.]\n",
      " [1. 5.]]\n",
      "theta = [[0.18898324]\n",
      " [0.27722466]]\n",
      "θ0: 0.703287319074965\n",
      "θ1: 2.499089465328565\n"
     ]
    }
   ],
   "source": [
    "# Añadimos una columna de unos , cada fila de la matriz de entrada tenga forma (1,x**i )\n",
    "X_b = np.c_[np.ones((X.shape[0], 1)), X]  # (5,2)\n",
    "\n",
    "print(\"X_b =\", X_b)  \n",
    "\n",
    "# Inicializar parámetros θ0 y θ1 en cualquiera de los valores\n",
    "theta = np.random.randn(2, 1)\n",
    "\n",
    "print(\"theta =\", theta)\n",
    "\n",
    "# Hiperparámetros\n",
    "learning_rate = 0.01\n",
    "n_iterations = 1000\n",
    "\n",
    "# Para graficar la evolución de los parámetros\n",
    "theta_history = []\n",
    "\n",
    "\n",
    "# Gradient Descent\n",
    "# Número de muestras (datos)\n",
    "m = len(X)\n",
    "\n",
    "# Iteramos el número de veces definido (1000)\n",
    "for iteration in range(n_iterations):\n",
    "    # Calculamos el gradiente del costo con respecto a theta, es decir, aplicamos:  (2/m) * X_b^T * (X_b * theta - y)\n",
    "    # Cálculo del gradiente (forma matricial):\n",
    "    gradients = (2 / m) * X_b.T.dot(X_b.dot(theta) - y)\n",
    "    # Actualizamos los parámetros theta en la dirección del gradiente negativo\n",
    "    theta = theta - learning_rate * gradients\n",
    "    # Guardamos los valores actuales de theta para graficar su evolución\n",
    "    theta_history.append(theta.copy())\n",
    "\n",
    "\n",
    "# Mostrar resultados finales\n",
    "print(\"θ0:\", theta[0, 0])\n",
    "print(\"θ1:\", theta[1, 0])"
   ]
  },
  {
   "cell_type": "code",
   "execution_count": 5,
   "id": "5ce7c59b",
   "metadata": {},
   "outputs": [
    {
     "data": {
      "image/png": "[encoded data removed]",
      "text/plain": [
       "<Figure size 1000x500 with 1 Axes>"
      ]
     },
     "metadata": {},
     "output_type": "display_data"
    }
   ],
   "source": [
    "# Convertimos theta_history a array para separar θ0 y θ1\n",
    "theta_history = np.array(theta_history)\n",
    "\n",
    "# Graficar\n",
    "plt.figure(figsize=(10, 5))\n",
    "plt.plot(theta_history[:, 0], label=\"θ0 (intercepto)\")\n",
    "plt.plot(theta_history[:, 1], label=\"θ1 (pendiente)\")\n",
    "plt.xlabel(\"Iteraciones\")\n",
    "plt.ylabel(\"Valor del parámetro\")\n",
    "plt.title(\"Evolución de los parámetros θ0 y θ1 durante el Gradient Descent\")\n",
    "plt.legend()\n",
    "plt.grid(True)\n",
    "plt.show()\n"
   ]
  },
  {
   "cell_type": "markdown",
   "id": "cc9039b6",
   "metadata": {},
   "source": [
    "### Que es el alpha o Rango de aprendisaje"
   ]
  },
  {
   "cell_type": "markdown",
   "id": "dee32d92",
   "metadata": {},
   "source": [
    "La tasa de aprendisaje indica que tan rapido aprende un modelo,  es un factor de escala que determina cuánto se ajustan los parámetros en cada paso del algoritmo. Si es muy grande, puede hacer que el algoritmo salte sobre el mínimo y no converja. Si es muy pequeño, el proceso será lento y puede atascarse en un mínimo local o necesitar muchas iteraciones. En otras palabras controla la velocidad de aprendizaje del model"
   ]
  }
 ],
 "metadata": {
  "kernelspec": {
   "display_name": "base",
   "language": "python",
   "name": "python3"
  },
  "language_info": {
   "codemirror_mode": {
    "name": "ipython",
    "version": 3
   },
   "file_extension": ".py",
   "mimetype": "text/x-python",
   "name": "python",
   "nbconvert_exporter": "python",
   "pygments_lexer": "ipython3",
   "version": "3.12.7"
  }
 },
 "nbformat": 4,
 "nbformat_minor": 5
}
